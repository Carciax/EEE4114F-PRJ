{
 "cells": [
  {
   "cell_type": "code",
   "execution_count": 129,
   "id": "323b5570",
   "metadata": {},
   "outputs": [],
   "source": [
    "import numpy as np\n",
    "import matplotlib.pyplot as plt\n",
    "import scipy.fftpack\n",
    "from scipy.io import wavfile\n",
    "\n",
    "DELTA_FREQUENCIES = 0.1 # Hz\n",
    "LOWEST_FREQUENCY = 1 # Hz"
   ]
  },
  {
   "cell_type": "code",
   "execution_count": 130,
   "id": "4088b62d",
   "metadata": {},
   "outputs": [],
   "source": [
    "def image_to_bits(filename = \"\"):\n",
    "    return [0, 1, 0, 1, 1, 0, 1, 0, 1]"
   ]
  },
  {
   "cell_type": "code",
   "execution_count": 131,
   "id": "3bff4aa8",
   "metadata": {},
   "outputs": [],
   "source": [
    "def bits_to_image(bits):\n",
    "    return 0"
   ]
  },
  {
   "cell_type": "code",
   "execution_count": 132,
   "id": "53c80550",
   "metadata": {},
   "outputs": [],
   "source": [
    "def audio_from_wav(filename):\n",
    "    fs, data = wavfile.read(filename)\n",
    "    audio = (data[:,0] + data[:,1]) / 2\n",
    "    data[:,0] = audio\n",
    "    data[:,1] = audio\n",
    "    wavfile.write(filename, fs, data)\n",
    "    return fs, audio;"
   ]
  },
  {
   "cell_type": "code",
   "execution_count": 133,
   "id": "5ef42dc6",
   "metadata": {},
   "outputs": [],
   "source": [
    "def pad_audio(audio, fs, df):\n",
    "    N = len(audio)\n",
    "    N_min = fs/df\n",
    "    N_req = int((N // N_min + 1) * N_min - N)\n",
    "    pad = np.linspace(0, 0, N_req)\n",
    "    audio = [audio, pad]\n",
    "    return audio"
   ]
  },
  {
   "cell_type": "code",
   "execution_count": 134,
   "id": "4d82ad3c",
   "metadata": {},
   "outputs": [],
   "source": [
    "def remove_low_frequencies(audio, fs, df, f_max):\n",
    "    return audio"
   ]
  },
  {
   "cell_type": "code",
   "execution_count": 135,
   "id": "57024c52",
   "metadata": {},
   "outputs": [],
   "source": [
    "def add_data(audio, data, df, f_min):\n",
    "    return audio"
   ]
  },
  {
   "cell_type": "code",
   "execution_count": 138,
   "id": "455de3ef",
   "metadata": {
    "scrolled": true
   },
   "outputs": [
    {
     "name": "stdout",
     "output_type": "stream",
     "text": [
      "<class 'numpy.ndarray'>\n",
      "433125\n",
      "2\n"
     ]
    }
   ],
   "source": [
    "fs, audio = audio_from_wav('bumblebee_small.wav')\n",
    "audio = pad_audio(audio, fs, DELTA_FREQUENCIES)\n",
    "#remove_low_frequencies(audio, fs, DELTA_FREQUENCIES, LOWEST_FREQUENCY)"
   ]
  },
  {
   "cell_type": "code",
   "execution_count": null,
   "id": "f2c2a291",
   "metadata": {},
   "outputs": [],
   "source": []
  }
 ],
 "metadata": {
  "kernelspec": {
   "display_name": "Python 3 (ipykernel)",
   "language": "python",
   "name": "python3"
  },
  "language_info": {
   "codemirror_mode": {
    "name": "ipython",
    "version": 3
   },
   "file_extension": ".py",
   "mimetype": "text/x-python",
   "name": "python",
   "nbconvert_exporter": "python",
   "pygments_lexer": "ipython3",
   "version": "3.9.12"
  }
 },
 "nbformat": 4,
 "nbformat_minor": 5
}
