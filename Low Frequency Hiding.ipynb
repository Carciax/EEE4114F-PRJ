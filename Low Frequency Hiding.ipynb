{
 "cells": [
  {
   "cell_type": "code",
   "execution_count": 228,
   "id": "7dc73068",
   "metadata": {},
   "outputs": [],
   "source": [
    "import numpy as np\n",
    "import matplotlib.pyplot as plt\n",
    "from scipy.io import wavfile\n",
    "import rsa"
   ]
  },
  {
   "cell_type": "markdown",
   "id": "e546eec3",
   "metadata": {},
   "source": [
    "## Encoding and Decoding Functions"
   ]
  },
  {
   "cell_type": "code",
   "execution_count": 229,
   "id": "178958e9",
   "metadata": {},
   "outputs": [],
   "source": [
    "def audio_from_wav(filename, save_mono=False):\n",
    "    fs, data = wavfile.read(filename)\n",
    "    audio = (data[:,0] + data[:,1]) // 2\n",
    "    if (save_mono):\n",
    "        data[:,0] = audio\n",
    "        data[:,1] = audio\n",
    "        filename = filename.split('.')[0] + '_mono.wav'\n",
    "        wavfile.write(filename, fs, data)\n",
    "    return fs, audio\n",
    "\n",
    "def audio_to_wav(audio, filename, fs, N_original):\n",
    "    data = np.zeros((N_original, 2)).astype(np.int16)\n",
    "    data[:,0] = audio[0:N_original]\n",
    "    data[:,1] = audio[0:N_original]\n",
    "    wavfile.write(filename, fs, data)\n",
    "\n",
    "def pad_audio(audio, fs, df):\n",
    "    N = len(audio)\n",
    "    N_min = fs/df\n",
    "    N_req = int((N // N_min + 1) * N_min - N)\n",
    "    pad = np.linspace(0, 0, N_req)\n",
    "    audio = np.concatenate((audio, pad))\n",
    "    return audio\n",
    "\n",
    "def remove_low_frequencies(audio, fs, f_max):\n",
    "    audio_fft = np.fft.rfft(audio)\n",
    "    audio_fft[0:len(audio)*f_max//fs] = 0\n",
    "    audio = np.real(np.fft.irfft(audio_fft))\n",
    "    return audio\n",
    "\n",
    "def add_data(audio, data, ampl, fs, df, f_min):\n",
    "    f_min = max(f_min, df)\n",
    "    \n",
    "    f_data = np.linspace(f_min, f_min + (len(data)-1) * df, len(data))\n",
    "    f_audio = np.fft.rfftfreq(len(audio), 1/fs)\n",
    "    audio_fft = np.fft.rfft(audio)\n",
    "\n",
    "    f_d = 0\n",
    "    for f in range(len(f_audio)):\n",
    "        if (f_data[f_d] <= f_audio[f]):\n",
    "            audio_fft[f] = ampl * data[f_d]\n",
    "            f_d += 1\n",
    "            if f_d == len(f_data):\n",
    "                break\n",
    "\n",
    "    audio = np.real(np.fft.irfft(audio_fft))\n",
    "    return audio\n",
    "\n",
    "def recover_data(audio, data_ampl, data_len, fs, df, f_min):\n",
    "    data = np.zeros(data_len)\n",
    "\n",
    "    f_data = np.linspace(f_min, f_min + (len(data)-1) * df, len(data))\n",
    "    f_audio = np.fft.rfftfreq(len(audio), 1/fs)\n",
    "    audio_fft = np.fft.rfft(audio)\n",
    "\n",
    "    f_d = 0\n",
    "    for f in range(len(f_audio)):\n",
    "        if (f_data[f_d] <= f_audio[f]):\n",
    "            if (audio_fft[f] > data_ampl/2):\n",
    "                data[f_d] = 1\n",
    "            f_d += 1\n",
    "            if f_d == len(f_data):\n",
    "                break\n",
    "    return data"
   ]
  },
  {
   "cell_type": "markdown",
   "id": "b45a623b",
   "metadata": {},
   "source": [
    "## Encryption Functions"
   ]
  },
  {
   "cell_type": "code",
   "execution_count": 230,
   "id": "28a8516e",
   "metadata": {},
   "outputs": [
    {
     "name": "stdout",
     "output_type": "stream",
     "text": [
      "<class 'numpy.int64'>\n",
      "1110100011001000111001001111000010000001\n",
      "['11101000', '11001000', '11100100', '11110000', '10000001']\n",
      "èÈäð\n"
     ]
    }
   ],
   "source": [
    "def create_keys(length):\n",
    "    public_key, private_key = rsa.newkeys(length)\n",
    "\n",
    "    with open('public_key.pem', 'wb') as f:\n",
    "        f.write(public_key.save_pkcs1())\n",
    "    \n",
    "    with open('private_key.pem', 'wb') as f:\n",
    "        f.write(private_key.save_pkcs1())\n",
    "        \n",
    "    return public_key, private_key\n",
    "\n",
    "def encrypt_data(message, private_key):\n",
    "    return rsa.sign(message.encode(), private_key, 'SHA-1')\n",
    "\n",
    "def check_data(message, sign_message , public_key):\n",
    "    try:\n",
    "        rsa.verify(message.encode(), sign_message, public_key)\n",
    "        return True\n",
    "    except:\n",
    "        return False\n",
    "    \n",
    "\n",
    "def extract_audio_signature(audio_name):\n",
    "    fs, audio = audio_from_wav(audio_name)\n",
    "\n",
    "    # start inputs\n",
    "    f_start = 100\n",
    "    f_end = 4100\n",
    "    df = 1\n",
    "    section_size = 100\n",
    "\n",
    "    # arrays\n",
    "    averages = np.zeros((f_end-f_start)//section_size)\n",
    "    byte_averages = np.zeros(len(averages)//8)\n",
    "    output = np.zeros(len(averages))\n",
    "\n",
    "    # fourier transform audio\n",
    "    audio = pad_audio(audio, fs, df)\n",
    "    f_full = np.fft.rfftfreq(len(audio), 1/fs)\n",
    "    audio_fft = np.fft.rfft(audio)\n",
    "\n",
    "    # calculate average for all\n",
    "    total, count = 0, 0\n",
    "    section = 0\n",
    "    section_start = f_start + section * section_size\n",
    "    section_end = section_start + section_size\n",
    "    for i in range(len(f_full)):\n",
    "        if (f_full[i] > section_start and f_full[i] <= section_end):\n",
    "            total += np.abs(audio_fft[i])\n",
    "            count+=1\n",
    "        if (f_full[i] >= section_end):\n",
    "            averages[section] = total / count\n",
    "            count = 0\n",
    "            total = 0\n",
    "\n",
    "            section += 1\n",
    "            section_start = f_start + section * section_size\n",
    "            section_end = section_start + section_size\n",
    "\n",
    "            if (section == len(averages)):\n",
    "                break\n",
    "\n",
    "    # calculate average for each byte\n",
    "    for i in range(len(averages)):\n",
    "        byte_averages[i//8] += averages[i]\n",
    "    byte_averages = byte_averages / 8\n",
    "\n",
    "    # compare averages\n",
    "    for i in range(len(averages)):\n",
    "        output[i] = (averages[i] > byte_averages[i//8])\n",
    "\n",
    "    return output.astype(int)\n",
    "\n",
    "\n",
    "def convert_bit_array_to_string(bit_array):\n",
    "    print(type(bit_array[0]))\n",
    "    binary_string = ''.join(str(bit) for bit in bit_array)\n",
    "    print(binary_string)\n",
    "    ascii_chars = [binary_string[i:i+8] for i in range(0, len(binary_string), 8)]\n",
    "    print(ascii_chars)\n",
    "    string = ''.join(chr(int(char, 2)) for char in ascii_chars)\n",
    "    return string\n",
    "\n",
    "def bytes_to_binary(bytes_obj):\n",
    "    return ''.join(format(byte, '08b') for byte in bytes_obj)\n",
    "\n",
    "def binary_to_bytes(binary_str):\n",
    "    return bytes(int(binary_str[i:i+8], 2) for i in range(0, len(binary_str), 8))\n",
    "\n",
    "\n",
    "def get_data(audio_name,private_key):\n",
    "    message = convert_bit_array_to_string(extract_audio_signature(audio_name))\n",
    "    sign_message = encrypt_data(message, private_key)\n",
    "    bin_sign_message=bytes_to_binary(sign_message)    \n",
    "    bin_data = [int(bit) for bit in bin_sign_message]\n",
    "    return bin_data\n",
    "\n",
    "\n",
    "def check_data(audio_name, bin_data_arry , public_key):\n",
    "    message = convert_bit_array_to_string(extract_audio_signature(audio_name))\n",
    "    bin_data = ''.join(str(bit) for bit in bin_data_arry)\n",
    "    sign_message = binary_to_bytes(bin_data)\n",
    "    return check_data(message, sign_message, public_key)\n",
    "    \n",
    "\n",
    "print(convert_bit_array_to_string(extract_audio_signature('AudioFiles/bumblebee/bumblebee_small.wav')))\n",
    "\n"
   ]
  },
  {
   "cell_type": "markdown",
   "id": "73c2b416",
   "metadata": {},
   "source": [
    "## Helper Functions"
   ]
  },
  {
   "cell_type": "code",
   "execution_count": 231,
   "id": "f3a1f8d4",
   "metadata": {},
   "outputs": [],
   "source": [
    "def plot_fft(audio, fs, f_max = 250):\n",
    "    f_full = np.fft.rfftfreq(len(audio), 1/fs)\n",
    "    audio_fft = np.fft.rfft(audio)\n",
    "    plt.figure()\n",
    "    plt.plot(f_full, np.abs(audio_fft))\n",
    "    plt.xlim([0, f_max])\n",
    "    plt.ylim([0, 1.5e7])\n",
    "    plt.title('Song fft')"
   ]
  },
  {
   "cell_type": "markdown",
   "id": "940b078b",
   "metadata": {},
   "source": [
    "## Implentation"
   ]
  },
  {
   "cell_type": "code",
   "execution_count": 232,
   "id": "aa6b5c77",
   "metadata": {},
   "outputs": [],
   "source": [
    "DELTA_FREQUENCIES = 0.2 # Hz\n",
    "LOWEST_FREQUENCY = 1 # Hz\n",
    "DATA_LENGTH = 368\n",
    "BINARY_AMPLITUDES = 0.5e7\n",
    "\n",
    "def encrypt_audio(filename):\n",
    "    # Keys and data\n",
    "    public_key, private_key = create_keys(365);\n",
    "    data = get_data(filename, private_key)\n",
    "\n",
    "    # Audio from file\n",
    "    fs, audio = audio_from_wav(filename, True)\n",
    "    N_original = len(audio)\n",
    "    # plot_fft(audio, fs)\n",
    "\n",
    "    # Add data to audio\n",
    "    audio = pad_audio(audio, fs, DELTA_FREQUENCIES)\n",
    "    audio = remove_low_frequencies(audio, fs, 100)\n",
    "    # plot_fft(audio, fs)\n",
    "    audio = add_data(audio, data, BINARY_AMPLITUDES, fs, DELTA_FREQUENCIES, LOWEST_FREQUENCY)\n",
    "    # plot_fft(audio, fs)\n",
    "    plot_fft(audio, fs)\n",
    "\n",
    "    # Save audio to file\n",
    "    audio_to_wav(audio, filename.split('.')[0] + '_with_data.wav', fs, N_original)\n",
    "    return public_key, private_key\n",
    "\n",
    "    \n",
    "\n",
    "def check_audio(filename, public_key):\n",
    "    fs, audio = audio_from_wav(filename)\n",
    "    audio = pad_audio(audio, fs, DELTA_FREQUENCIES)\n",
    "    plot_fft(audio, fs)\n",
    "\n",
    "    data_r = recover_data(audio, BINARY_AMPLITUDES, DATA_LENGTH, fs, DELTA_FREQUENCIES, LOWEST_FREQUENCY).astype(int)\n",
    "    check = check_data(filename,data_r,public_key)\n",
    "    return check"
   ]
  },
  {
   "cell_type": "code",
   "execution_count": 233,
   "id": "455de3ef",
   "metadata": {
    "scrolled": true
   },
   "outputs": [
    {
     "name": "stdout",
     "output_type": "stream",
     "text": [
      "<class 'numpy.int64'>\n",
      "1110100011001000111001001111000010000001\n",
      "['11101000', '11001000', '11100100', '11110000', '10000001']\n",
      "<class 'numpy.int64'>\n",
      "1110100010001000111001001101000011000001\n",
      "['11101000', '10001000', '11100100', '11010000', '11000001']\n"
     ]
    },
    {
     "ename": "FileNotFoundError",
     "evalue": "[Errno 2] No such file or directory: 'è\\x88äÐÁ'",
     "output_type": "error",
     "traceback": [
      "\u001b[0;31m---------------------------------------------------------------------------\u001b[0m",
      "\u001b[0;31mFileNotFoundError\u001b[0m                         Traceback (most recent call last)",
      "Input \u001b[0;32mIn [233]\u001b[0m, in \u001b[0;36m<cell line: 2>\u001b[0;34m()\u001b[0m\n\u001b[1;32m      1\u001b[0m public_key, _ \u001b[38;5;241m=\u001b[39m encrypt_audio(\u001b[38;5;124m'\u001b[39m\u001b[38;5;124mAudioFiles/bumblebee/bumblebee_small.wav\u001b[39m\u001b[38;5;124m'\u001b[39m)\n\u001b[0;32m----> 2\u001b[0m \u001b[38;5;28mprint\u001b[39m(\u001b[43mcheck_audio\u001b[49m\u001b[43m(\u001b[49m\u001b[38;5;124;43m'\u001b[39;49m\u001b[38;5;124;43mAudioFiles/bumblebee/bumblebee_small_with_data.wav\u001b[39;49m\u001b[38;5;124;43m'\u001b[39;49m\u001b[43m,\u001b[49m\u001b[43m \u001b[49m\u001b[43mpublic_key\u001b[49m\u001b[43m)\u001b[49m)\n",
      "Input \u001b[0;32mIn [232]\u001b[0m, in \u001b[0;36mcheck_audio\u001b[0;34m(filename, public_key)\u001b[0m\n\u001b[1;32m     33\u001b[0m plot_fft(audio, fs)\n\u001b[1;32m     35\u001b[0m data_r \u001b[38;5;241m=\u001b[39m recover_data(audio, BINARY_AMPLITUDES, DATA_LENGTH, fs, DELTA_FREQUENCIES, LOWEST_FREQUENCY)\u001b[38;5;241m.\u001b[39mastype(\u001b[38;5;28mint\u001b[39m)\n\u001b[0;32m---> 36\u001b[0m check \u001b[38;5;241m=\u001b[39m \u001b[43mcheck_data\u001b[49m\u001b[43m(\u001b[49m\u001b[43mfilename\u001b[49m\u001b[43m,\u001b[49m\u001b[43mdata_r\u001b[49m\u001b[43m,\u001b[49m\u001b[43mpublic_key\u001b[49m\u001b[43m)\u001b[49m\n\u001b[1;32m     37\u001b[0m \u001b[38;5;28;01mreturn\u001b[39;00m check\n",
      "Input \u001b[0;32mIn [230]\u001b[0m, in \u001b[0;36mcheck_data\u001b[0;34m(audio_name, bin_data_arry, public_key)\u001b[0m\n\u001b[1;32m    101\u001b[0m bin_data \u001b[38;5;241m=\u001b[39m \u001b[38;5;124m'\u001b[39m\u001b[38;5;124m'\u001b[39m\u001b[38;5;241m.\u001b[39mjoin(\u001b[38;5;28mstr\u001b[39m(bit) \u001b[38;5;28;01mfor\u001b[39;00m bit \u001b[38;5;129;01min\u001b[39;00m bin_data_arry)\n\u001b[1;32m    102\u001b[0m sign_message \u001b[38;5;241m=\u001b[39m binary_to_bytes(bin_data)\n\u001b[0;32m--> 103\u001b[0m \u001b[38;5;28;01mreturn\u001b[39;00m \u001b[43mcheck_data\u001b[49m\u001b[43m(\u001b[49m\u001b[43mmessage\u001b[49m\u001b[43m,\u001b[49m\u001b[43m \u001b[49m\u001b[43msign_message\u001b[49m\u001b[43m,\u001b[49m\u001b[43m \u001b[49m\u001b[43mpublic_key\u001b[49m\u001b[43m)\u001b[49m\n",
      "Input \u001b[0;32mIn [230]\u001b[0m, in \u001b[0;36mcheck_data\u001b[0;34m(audio_name, bin_data_arry, public_key)\u001b[0m\n\u001b[1;32m     99\u001b[0m \u001b[38;5;28;01mdef\u001b[39;00m \u001b[38;5;21mcheck_data\u001b[39m(audio_name, bin_data_arry , public_key):\n\u001b[0;32m--> 100\u001b[0m     message \u001b[38;5;241m=\u001b[39m convert_bit_array_to_string(\u001b[43mextract_audio_signature\u001b[49m\u001b[43m(\u001b[49m\u001b[43maudio_name\u001b[49m\u001b[43m)\u001b[49m)\n\u001b[1;32m    101\u001b[0m     bin_data \u001b[38;5;241m=\u001b[39m \u001b[38;5;124m'\u001b[39m\u001b[38;5;124m'\u001b[39m\u001b[38;5;241m.\u001b[39mjoin(\u001b[38;5;28mstr\u001b[39m(bit) \u001b[38;5;28;01mfor\u001b[39;00m bit \u001b[38;5;129;01min\u001b[39;00m bin_data_arry)\n\u001b[1;32m    102\u001b[0m     sign_message \u001b[38;5;241m=\u001b[39m binary_to_bytes(bin_data)\n",
      "Input \u001b[0;32mIn [230]\u001b[0m, in \u001b[0;36mextract_audio_signature\u001b[0;34m(audio_name)\u001b[0m\n\u001b[1;32m     23\u001b[0m \u001b[38;5;28;01mdef\u001b[39;00m \u001b[38;5;21mextract_audio_signature\u001b[39m(audio_name):\n\u001b[0;32m---> 24\u001b[0m     fs, audio \u001b[38;5;241m=\u001b[39m \u001b[43maudio_from_wav\u001b[49m\u001b[43m(\u001b[49m\u001b[43maudio_name\u001b[49m\u001b[43m)\u001b[49m\n\u001b[1;32m     26\u001b[0m     \u001b[38;5;66;03m# start inputs\u001b[39;00m\n\u001b[1;32m     27\u001b[0m     f_start \u001b[38;5;241m=\u001b[39m \u001b[38;5;241m100\u001b[39m\n",
      "Input \u001b[0;32mIn [229]\u001b[0m, in \u001b[0;36maudio_from_wav\u001b[0;34m(filename, save_mono)\u001b[0m\n\u001b[1;32m      1\u001b[0m \u001b[38;5;28;01mdef\u001b[39;00m \u001b[38;5;21maudio_from_wav\u001b[39m(filename, save_mono\u001b[38;5;241m=\u001b[39m\u001b[38;5;28;01mFalse\u001b[39;00m):\n\u001b[0;32m----> 2\u001b[0m     fs, data \u001b[38;5;241m=\u001b[39m \u001b[43mwavfile\u001b[49m\u001b[38;5;241;43m.\u001b[39;49m\u001b[43mread\u001b[49m\u001b[43m(\u001b[49m\u001b[43mfilename\u001b[49m\u001b[43m)\u001b[49m\n\u001b[1;32m      3\u001b[0m     audio \u001b[38;5;241m=\u001b[39m (data[:,\u001b[38;5;241m0\u001b[39m] \u001b[38;5;241m+\u001b[39m data[:,\u001b[38;5;241m1\u001b[39m]) \u001b[38;5;241m/\u001b[39m\u001b[38;5;241m/\u001b[39m \u001b[38;5;241m2\u001b[39m\n\u001b[1;32m      4\u001b[0m     \u001b[38;5;28;01mif\u001b[39;00m (save_mono):\n",
      "File \u001b[0;32m~/opt/anaconda3/lib/python3.9/site-packages/scipy/io/wavfile.py:647\u001b[0m, in \u001b[0;36mread\u001b[0;34m(filename, mmap)\u001b[0m\n\u001b[1;32m    645\u001b[0m     mmap \u001b[38;5;241m=\u001b[39m \u001b[38;5;28;01mFalse\u001b[39;00m\n\u001b[1;32m    646\u001b[0m \u001b[38;5;28;01melse\u001b[39;00m:\n\u001b[0;32m--> 647\u001b[0m     fid \u001b[38;5;241m=\u001b[39m \u001b[38;5;28;43mopen\u001b[39;49m\u001b[43m(\u001b[49m\u001b[43mfilename\u001b[49m\u001b[43m,\u001b[49m\u001b[43m \u001b[49m\u001b[38;5;124;43m'\u001b[39;49m\u001b[38;5;124;43mrb\u001b[39;49m\u001b[38;5;124;43m'\u001b[39;49m\u001b[43m)\u001b[49m\n\u001b[1;32m    649\u001b[0m \u001b[38;5;28;01mtry\u001b[39;00m:\n\u001b[1;32m    650\u001b[0m     file_size, is_big_endian \u001b[38;5;241m=\u001b[39m _read_riff_chunk(fid)\n",
      "\u001b[0;31mFileNotFoundError\u001b[0m: [Errno 2] No such file or directory: 'è\\x88äÐÁ'"
     ]
    },
    {
     "data": {
      "image/png": "[encoded data removed]",
      "text/plain": [
       "<Figure size 432x288 with 1 Axes>"
      ]
     },
     "metadata": {
      "needs_background": "light"
     },
     "output_type": "display_data"
    },
    {
     "data": {
      "image/png": "[encoded data removed]",
      "text/plain": [
       "<Figure size 432x288 with 1 Axes>"
      ]
     },
     "metadata": {
      "needs_background": "light"
     },
     "output_type": "display_data"
    }
   ],
   "source": [
    "public_key, _ = encrypt_audio('AudioFiles/bumblebee/bumblebee_small.wav')\n",
    "print(check_audio('AudioFiles/bumblebee/bumblebee_small_with_data.wav', public_key))\n"
   ]
  }
 ],
 "metadata": {
  "kernelspec": {
   "display_name": "Python 3 (ipykernel)",
   "language": "python",
   "name": "python3"
  },
  "language_info": {
   "codemirror_mode": {
    "name": "ipython",
    "version": 3
   },
   "file_extension": ".py",
   "mimetype": "text/x-python",
   "name": "python",
   "nbconvert_exporter": "python",
   "pygments_lexer": "ipython3",
   "version": "3.12.2"
  }
 },
 "nbformat": 4,
 "nbformat_minor": 5
}
