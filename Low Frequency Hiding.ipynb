{
 "cells": [
  {
   "cell_type": "code",
   "execution_count": 111,
   "id": "7dc73068",
   "metadata": {},
   "outputs": [],
   "source": [
    "import numpy as np\n",
    "import matplotlib.pyplot as plt\n",
    "from scipy.io import wavfile\n",
    "import rsa"
   ]
  },
  {
   "cell_type": "markdown",
   "id": "e546eec3",
   "metadata": {},
   "source": [
    "## Encoding and Decoding Functions"
   ]
  },
  {
   "cell_type": "code",
   "execution_count": 112,
   "id": "178958e9",
   "metadata": {},
   "outputs": [],
   "source": [
    "def audio_from_wav(filename, save_mono=False):\n",
    "    fs, data = wavfile.read(filename)\n",
    "    audio = (data[:,0] + data[:,1]) // 2\n",
    "    if (save_mono):\n",
    "        data[:,0] = audio\n",
    "        data[:,1] = audio\n",
    "        filename = filename.split('.')[0] + '_mono.wav'\n",
    "        wavfile.write(filename, fs, data)\n",
    "    return fs, audio\n",
    "\n",
    "def audio_to_wav(audio, filename, fs, N_original):\n",
    "    data = np.zeros((N_original, 2)).astype(np.int16)\n",
    "    data[:,0] = audio[0:N_original]\n",
    "    data[:,1] = audio[0:N_original]\n",
    "    wavfile.write(filename, fs, data)\n",
    "\n",
    "def pad_audio(audio, fs, df):\n",
    "    N = len(audio)\n",
    "    N_min = fs/df\n",
    "    N_req = int((N // N_min + 1) * N_min - N)\n",
    "    pad = np.linspace(0, 0, N_req)\n",
    "    audio = np.concatenate((audio, pad))\n",
    "    return audio\n",
    "\n",
    "def remove_low_frequencies(audio, fs, f_max):\n",
    "    audio_fft = np.fft.rfft(audio)\n",
    "    audio_fft[0:len(audio)*f_max//fs] = 0\n",
    "    audio = np.real(np.fft.irfft(audio_fft))\n",
    "    return audio\n",
    "\n",
    "def add_data(audio, data, ampl, fs, df, f_min):\n",
    "    f_min = max(f_min, df)\n",
    "    \n",
    "    f_data = np.linspace(f_min, f_min + (len(data)-1) * df, len(data))\n",
    "    f_audio = np.fft.rfftfreq(len(audio), 1/fs)\n",
    "    audio_fft = np.fft.rfft(audio)\n",
    "\n",
    "    f_d = 0\n",
    "    for f in range(len(f_audio)):\n",
    "        if (f_data[f_d] <= f_audio[f]):\n",
    "            audio_fft[f] = ampl * data[f_d]\n",
    "            f_d += 1\n",
    "            if f_d == len(f_data):\n",
    "                break\n",
    "\n",
    "    audio = np.real(np.fft.irfft(audio_fft))\n",
    "    return audio\n",
    "\n",
    "def recover_data(audio, data_ampl, data_len, fs, df, f_min):\n",
    "    data = np.zeros(data_len)\n",
    "\n",
    "    f_data = np.linspace(f_min, f_min + (len(data)-1) * df, len(data))\n",
    "    f_audio = np.fft.rfftfreq(len(audio), 1/fs)\n",
    "    audio_fft = np.fft.rfft(audio)\n",
    "\n",
    "    f_d = 0\n",
    "    for f in range(len(f_audio)):\n",
    "        if (f_data[f_d] <= f_audio[f]):\n",
    "            if (np.real(audio_fft[f]) > data_ampl/2):\n",
    "                data[f_d] = 1\n",
    "            f_d += 1\n",
    "            if f_d == len(f_data):\n",
    "                break\n",
    "    return data"
   ]
  },
  {
   "cell_type": "markdown",
   "id": "b45a623b",
   "metadata": {},
   "source": [
    "## Encryption Functions"
   ]
  },
  {
   "cell_type": "code",
   "execution_count": 113,
   "id": "28a8516e",
   "metadata": {},
   "outputs": [],
   "source": [
    "def create_keys(length, filename):\n",
    "    public_key, private_key = rsa.newkeys(length)\n",
    "\n",
    "    with open('/'.join(filename.split('/')[0:-1]) + '/public_key.pem', 'wb') as f:\n",
    "        f.write(public_key.save_pkcs1())\n",
    "    \n",
    "    with open('/'.join(filename.split('/')[0:-1]) + '/private_key.pem', 'wb') as f:\n",
    "        f.write(private_key.save_pkcs1())\n",
    "        \n",
    "    return public_key, private_key\n",
    "\n",
    "\n",
    "def read_public_key(filename):\n",
    "    with open('/'.join(filename.split('/')[0:-1]) + '/public_key.pem', 'rb') as f:\n",
    "        public_key = rsa.PublicKey.load_pkcs1(f.read())\n",
    "   \n",
    "    return public_key\n",
    "\n",
    "\n",
    "def read_private_key(filename):\n",
    "    with open('/'.join(filename.split('/')[0:-1]) + '/private_key.pem', 'rb') as f:\n",
    "        private_key = rsa.PrivateKey.load_pkcs1(f.read())\n",
    "\n",
    "    return private_key\n",
    "\n",
    "\n",
    "\n",
    "\n",
    "def encrypt_data(message, private_key):\n",
    "    return rsa.sign(message.encode(), private_key, 'SHA-1')\n",
    "\n",
    "def check_data(message, sign_message , public_key):\n",
    "    try:\n",
    "        rsa.verify(message.encode(), sign_message, public_key)\n",
    "        return True\n",
    "    except:\n",
    "        return False\n",
    "    \n",
    "\n",
    "def extract_audio_signature(audio_name):\n",
    "    fs, audio = audio_from_wav(audio_name)\n",
    "    df = 1\n",
    "    audio = pad_audio(audio, fs, df)\n",
    "    audio_fft = np.abs(np.fft.rfft(audio))\n",
    "    f = np.fft.rfftfreq(len(audio), 1/fs)\n",
    "\n",
    "    # start inputs\n",
    "    section_width = 10\n",
    "    f_start = 200\n",
    "    f_end = 600\n",
    "    section_count = (f_end-f_start)//section_width\n",
    "\n",
    "    # section off the audio\n",
    "    sections = [[ ] for _ in range(section_count)]\n",
    "    for s in range(len(sections)):\n",
    "        section_start = f_start + s * section_width\n",
    "        section_end = section_start + section_width\n",
    "        section_indices = np.where((f >= section_start) & (f < section_end))[0]\n",
    "        sections[s] = audio_fft[section_indices]\n",
    "\n",
    "    sections = np.array(sections)\n",
    "    averages = [np.average(arr) for arr in sections]\n",
    "    byte_averages = [np.average(averages[i:i+8]) for i in range(0, len(averages), 8)]\n",
    "    output = np.array([(averages[i] > byte_averages[i//8]).astype(int) for i in range(len(averages))])\n",
    "\n",
    "    return output\n",
    "\n",
    "\n",
    "def convert_bit_array_to_string(bit_array):\n",
    "    binary_string = ''.join(str(bit) for bit in bit_array)\n",
    "    ascii_chars = [\"0\" + binary_string[i+1:i+8] for i in range(0, len(binary_string), 8)]\n",
    "    string = ''.join(chr(int(char, 2)) for char in ascii_chars)\n",
    "    return string\n",
    "\n",
    "def bytes_to_binary(bytes_obj):\n",
    "    return ''.join(format(byte, '08b') for byte in bytes_obj)\n",
    "\n",
    "def binary_to_bytes(binary_str):\n",
    "    return bytes(int(binary_str[i:i+8], 2) for i in range(0, len(binary_str), 8))\n",
    "\n",
    "\n",
    "def get_data(audio_name,private_key):\n",
    "    message = convert_bit_array_to_string(extract_audio_signature(audio_name))\n",
    "\n",
    "    sign_message = encrypt_data(message, private_key)\n",
    "    bin_sign_message=bytes_to_binary(sign_message)    \n",
    "    bin_data = [int(bit) for bit in bin_sign_message]\n",
    "    return bin_data\n",
    "\n",
    "\n",
    "def check_watermark(audio_name, bin_data_array , public_key):\n",
    "    message = convert_bit_array_to_string(extract_audio_signature(audio_name))\n",
    "    bin_data = ''.join(str(bit) for bit in bin_data_array)\n",
    "    sign_message = binary_to_bytes(bin_data)\n",
    "    return check_data(message, sign_message, public_key)"
   ]
  },
  {
   "cell_type": "markdown",
   "id": "73c2b416",
   "metadata": {},
   "source": [
    "## Helper Functions"
   ]
  },
  {
   "cell_type": "code",
   "execution_count": 114,
   "id": "f3a1f8d4",
   "metadata": {},
   "outputs": [],
   "source": [
    "def plot_fft(audio, fs, f_max = 250):\n",
    "    f_full = np.fft.rfftfreq(len(audio), 1/fs)\n",
    "    audio_fft = np.fft.rfft(audio)\n",
    "    plt.figure()\n",
    "    plt.plot(f_full, np.abs(audio_fft))\n",
    "    plt.xlim([0, f_max])\n",
    "    plt.ylim([0, 1.5e7])\n",
    "    plt.title('Song fft')"
   ]
  },
  {
   "cell_type": "markdown",
   "id": "940b078b",
   "metadata": {},
   "source": [
    "## Implentation"
   ]
  },
  {
   "cell_type": "code",
   "execution_count": 115,
   "id": "aa6b5c77",
   "metadata": {},
   "outputs": [],
   "source": [
    "DELTA_FREQUENCIES = 0.2 # Hz\n",
    "LOWEST_FREQUENCY = 1 # Hz\n",
    "DATA_LENGTH = 368\n",
    "BINARY_AMPLITUDES = 1e7\n",
    "\n",
    "def encrypt_audio(filename):\n",
    "    # Keys and data\n",
    "    public_key, private_key = create_keys(365, filename);\n",
    "    data = get_data(filename, private_key)\n",
    "    print(''.join(str(bit) for bit in data))\n",
    "    # Audio from file\n",
    "    fs, audio = audio_from_wav(filename, True)\n",
    "    N_original = len(audio)\n",
    "    # plot_fft(audio, fs)\n",
    "\n",
    "    # Add data to audio\n",
    "    audio = pad_audio(audio, fs, DELTA_FREQUENCIES)\n",
    "    audio = remove_low_frequencies(audio, fs, 100)\n",
    "    # plot_fft(audio, fs)\n",
    "    audio = add_data(audio, data, BINARY_AMPLITUDES, fs, DELTA_FREQUENCIES, LOWEST_FREQUENCY)\n",
    "    # plot_fft(audio, fs)\n",
    "    plot_fft(audio, fs)\n",
    "\n",
    "    # Save audio to file\n",
    "    audio_to_wav(audio, filename.split('.')[0] + '_with_data.wav', fs, N_original)\n",
    "    return public_key, private_key\n",
    "\n",
    "    \n",
    "\n",
    "def check_audio(filename, public_key):\n",
    "    fs, audio = audio_from_wav(filename)\n",
    "    audio = pad_audio(audio, fs, DELTA_FREQUENCIES)\n",
    "    plot_fft(audio, fs)\n",
    "\n",
    "    data_r = recover_data(audio, BINARY_AMPLITUDES, DATA_LENGTH, fs, DELTA_FREQUENCIES, LOWEST_FREQUENCY).astype(int)\n",
    "    print(''.join(str(bit) for bit in data_r))\n",
    "\n",
    "    check = check_watermark(filename,data_r,public_key)\n",
    "    return check\n"
   ]
  },
  {
   "cell_type": "code",
   "execution_count": 116,
   "id": "455de3ef",
   "metadata": {
    "scrolled": true
   },
   "outputs": [],
   "source": [
    "def manipulate_file(filename):\n",
    "    encrypt_audio(filename)\n",
    "    public_key = read_public_key(filename)\n",
    "    print(check_audio(filename.split('.')[0] + '_with_data.wav', public_key))"
   ]
  },
  {
   "cell_type": "code",
   "execution_count": 117,
   "id": "e2571709",
   "metadata": {},
   "outputs": [
    {
     "name": "stderr",
     "output_type": "stream",
     "text": [
      "/var/folders/rj/9n9dpytj2n74_jwlj_p0xk9m0000gn/T/ipykernel_23236/206914725.py:2: WavFileWarning: Chunk (non-data) not understood, skipping it.\n",
      "  fs, data = wavfile.read(filename)\n"
     ]
    },
    {
     "name": "stdout",
     "output_type": "stream",
     "text": [
      "00001010001011001011000001011001001001110100010110100010110111111100111111001111000000100001110110111110110100010001111000101011100001111001101001110110100100110001010011100101100100110001010111110101110001110101001111011001110110010111000001110111000001011001110111101001101011110111001110101010001100010111111010010001011010111011011110011101011010110010100100011100\n",
      "00000000000000000000000000000000000000000000000000000000000000000000000000000000000000000000000000000000000000000000000000000000000000000000000000000000000000000000000000000000000000000000000000000000000000000000000000000000000000000000000000000000000000000000000000000000000000000000000000000000000000000000000000000000000000000000000000000000000000000000000000000000\n",
      "False\n"
     ]
    },
    {
     "data": {
      "image/png": "[encoded data removed]",
      "text/plain": [
       "<Figure size 432x288 with 1 Axes>"
      ]
     },
     "metadata": {
      "needs_background": "light"
     },
     "output_type": "display_data"
    },
    {
     "data": {
      "image/png": "[encoded data removed]",
      "text/plain": [
       "<Figure size 432x288 with 1 Axes>"
      ]
     },
     "metadata": {
      "needs_background": "light"
     },
     "output_type": "display_data"
    }
   ],
   "source": [
    "# manipulate_file('AudioFiles/bumblebee/bumblebee_small.wav')\n",
    "manipulate_file('AudioFiles/popmusic end/popsong_small.wav')\n",
    "# manipulate_file('AudioFiles/popmusic start/popsong_small.wav')\n",
    "# manipulate_file('AudioFiles/Speech end/President_CR_small.wav')\n",
    "# manipulate_file('AudioFiles/Speech start/President_CR_small.wav')"
   ]
  }
 ],
 "metadata": {
  "kernelspec": {
   "display_name": "Python 3 (ipykernel)",
   "language": "python",
   "name": "python3"
  },
  "language_info": {
   "codemirror_mode": {
    "name": "ipython",
    "version": 3
   },
   "file_extension": ".py",
   "mimetype": "text/x-python",
   "name": "python",
   "nbconvert_exporter": "python",
   "pygments_lexer": "ipython3",
   "version": "3.9.12"
  }
 },
 "nbformat": 4,
 "nbformat_minor": 5
}
