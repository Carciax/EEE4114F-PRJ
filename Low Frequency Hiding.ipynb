{
 "cells": [
  {
   "cell_type": "code",
   "execution_count": 3,
   "id": "7dc73068",
   "metadata": {},
   "outputs": [],
   "source": [
    "import numpy as np\n",
    "import matplotlib.pyplot as plt\n",
    "import scipy.fftpack\n",
    "from scipy.io import wavfile\n",
    "import scipy.signal as signal\n",
    "import rsa"
   ]
  },
  {
   "cell_type": "markdown",
   "id": "e546eec3",
   "metadata": {},
   "source": [
    "## Encoding Functions"
   ]
  },
  {
   "cell_type": "code",
   "execution_count": 4,
   "id": "178958e9",
   "metadata": {},
   "outputs": [],
   "source": [
    "def audio_from_wav(filename):\n",
    "    fs, data = wavfile.read(filename)\n",
    "    print(type(data[0,0]))\n",
    "    audio = (data[:,0] + data[:,1]) // 2\n",
    "    data[:,0] = audio\n",
    "    data[:,1] = audio\n",
    "    wavfile.write(\"mono_of_\" + filename, fs, data)\n",
    "    return fs, audio;\n",
    "\n",
    "def audio_to_wav(audio, filename, fs):\n",
    "    data = np.zeros((len(audio), 2)).astype(np.int16)\n",
    "    data[:,0] = audio\n",
    "    data[:,1] = audio\n",
    "    print(type(data[0,0]))\n",
    "    wavfile.write(filename, fs, data)\n",
    "\n",
    "def pad_audio(audio, fs, df):\n",
    "    N = len(audio)\n",
    "    N_min = fs/df\n",
    "    N_req = int((N // N_min + 1) * N_min - N)\n",
    "    pad = np.linspace(0, 0, N_req)\n",
    "    audio = np.concatenate((audio, pad))\n",
    "    return audio\n",
    "\n",
    "def remove_low_frequencies(audio, fs, f_max):\n",
    "    audio_fft = scipy.fftpack.rfft(audio)\n",
    "    audio_fft[0:len(audio)*f_max*2//fs] = 0\n",
    "    audio = np.real(scipy.fftpack.irfft(audio_fft))\n",
    "    return audio\n",
    "\n",
    "def add_data(audio, data, ampl, fs, df, f_min):\n",
    "    f_data = np.linspace(f_min, f_min + (len(data)-1) * df, len(data))\n",
    "    f_audio = np.fft.rfftfreq(len(audio), 1/fs)\n",
    "    audio_fft = np.fft.rfft(audio)\n",
    "\n",
    "    f_d = 0\n",
    "    for f in range(len(f_audio)):\n",
    "        if (f_data[f_d] >= f_audio[f]):\n",
    "            audio_fft[f] = ampl * data[f_d]\n",
    "            f_d += 1\n",
    "            if f_d == len(f_data):\n",
    "                break\n",
    "\n",
    "    audio = np.real(np.fft.irfft(audio_fft))\n",
    "    return audio"
   ]
  },
  {
   "cell_type": "markdown",
   "id": "bac0cf68",
   "metadata": {},
   "source": [
    "## Decoding Functions"
   ]
  },
  {
   "cell_type": "code",
   "execution_count": null,
   "id": "cd499d57",
   "metadata": {},
   "outputs": [],
   "source": [
    "def recover_data(audio, data_ampl, data_len, fs, df, f_min):\n",
    "    data = np.zeros(data_len)\n",
    "\n",
    "    f_data = np.linspace(f_min, f_min + (len(data)-1) * df, len(data))\n",
    "    f_audio = np.fft.rfftfreq(len(audio), 1/fs)\n",
    "    audio_fft = np.fft.rfft(audio)\n",
    "\n",
    "    f_d = 0\n",
    "    for f in range(len(f_audio)):\n",
    "        if (f_data[f_d] >= f_audio[f]):\n",
    "            if (audio_fft[f] > data_ampl/2):\n",
    "                data[f_d] = 1\n",
    "            f_d += 1\n",
    "            if f_d == len(f_data):\n",
    "                break\n",
    "    return data"
   ]
  },
  {
   "cell_type": "markdown",
   "id": "b45a623b",
   "metadata": {},
   "source": [
    "## Encryption Functions"
   ]
  },
  {
   "cell_type": "code",
   "execution_count": 4,
   "id": "28a8516e",
   "metadata": {},
   "outputs": [],
   "source": [
    "def create_keys(length):\n",
    "    public_key, private_key = rsa.newkeys(length)\n",
    "\n",
    "    with open('public_key.pem', 'wb') as f:\n",
    "        f.write(public_key.save_pkcs1())\n",
    "    \n",
    "    with open('private_key.pem', 'wb') as f:\n",
    "        f.write(private_key.save_pkcs1())\n",
    "        \n",
    "    return public_key, private_key"
   ]
  },
  {
   "cell_type": "markdown",
   "id": "7b98024e",
   "metadata": {},
   "source": [
    "## Encryption tests"
   ]
  },
  {
   "cell_type": "code",
   "execution_count": 6,
   "id": "a32e0718",
   "metadata": {},
   "outputs": [
    {
     "data": {
      "text/plain": [
       "(PublicKey(813229623905027887006231241227, 65537),\n",
       " PrivateKey(813229623905027887006231241227, 65537, 74377807432239747870022695425, 6684914720049793, 121651458240139))"
      ]
     },
     "execution_count": 6,
     "metadata": {},
     "output_type": "execute_result"
    }
   ],
   "source": [
    "create_keys(100)"
   ]
  },
  {
   "cell_type": "markdown",
   "id": "73c2b416",
   "metadata": {},
   "source": [
    "## Helper Functions"
   ]
  },
  {
   "cell_type": "code",
   "execution_count": 618,
   "id": "f3a1f8d4",
   "metadata": {},
   "outputs": [],
   "source": [
    "def plot_fft(audio, fs, f_max = 250):\n",
    "    f_full = scipy.fftpack.rfftfreq(len(audio), 1/fs)\n",
    "    audio_fft = scipy.fftpack.rfft(audio)\n",
    "    plt.figure()\n",
    "    plt.plot(f_full, np.abs(audio_fft))\n",
    "    plt.xlim([0, f_max])\n",
    "    plt.ylim([0, 1.5e7])\n",
    "    plt.title('Song fft')"
   ]
  },
  {
   "cell_type": "code",
   "execution_count": 619,
   "id": "455de3ef",
   "metadata": {
    "scrolled": true
   },
   "outputs": [
    {
     "name": "stdout",
     "output_type": "stream",
     "text": [
      "90\n",
      "<class 'numpy.int16'>\n",
      "<class 'numpy.int16'>\n",
      "[0. 1. 0. 1. 1. 0. 1. 0. 1. 0. 1. 1. 0. 1. 0. 1. 0. 1. 0. 1. 0. 1. 1. 0.\n",
      " 1. 0. 1. 0. 1. 1. 0. 1. 0. 1. 0. 1. 0. 1. 0. 1. 1. 0. 1. 0. 1. 0. 1. 1.\n",
      " 0. 1. 0. 1. 0. 1. 0. 1. 0. 1. 1. 0. 1. 0. 1. 0. 1. 1. 0. 1. 0. 1. 0. 1.\n",
      " 0. 1. 0. 1. 1. 0. 1. 0. 1. 0. 1. 1. 0. 1. 0. 1. 0. 1.]\n"
     ]
    },
    {
     "data": {
      "image/png": "[encoded data removed]",
      "text/plain": [
       "<Figure size 432x288 with 1 Axes>"
      ]
     },
     "metadata": {
      "needs_background": "light"
     },
     "output_type": "display_data"
    },
    {
     "data": {
      "image/png": "[encoded data removed]",
      "text/plain": [
       "<Figure size 432x288 with 1 Axes>"
      ]
     },
     "metadata": {
      "needs_background": "light"
     },
     "output_type": "display_data"
    },
    {
     "data": {
      "image/png": "[encoded data removed]",
      "text/plain": [
       "<Figure size 432x288 with 1 Axes>"
      ]
     },
     "metadata": {
      "needs_background": "light"
     },
     "output_type": "display_data"
    }
   ],
   "source": [
    "DELTA_FREQUENCIES = 0.1 # Hz\n",
    "LOWEST_FREQUENCY = 1 # Hz\n",
    "data = [0, 1, 0, 1, 1, 0, 1, 0, 1, 0, 1, 1, 0, 1, 0, 1, 0, 1, 0, 1, 0, 1, 1, 0, 1, 0, 1, 0, 1, 1, 0, 1, 0, 1, 0, 1, 0, 1, 0, 1, 1, 0, 1, 0, 1, 0, 1, 1, 0, 1, 0, 1, 0, 1, 0, 1, 0, 1, 1, 0, 1, 0, 1, 0, 1, 1, 0, 1, 0, 1, 0, 1, 0, 1, 0, 1, 1, 0, 1, 0, 1, 0, 1, 1, 0, 1, 0, 1, 0, 1]\n",
    "print(len(data))\n",
    "\n",
    "fs, audio = audio_from_wav('bumblebee_small.wav')\n",
    "pad_audio(audio, fs, DELTA_FREQUENCIES)\n",
    "audio = remove_low_frequencies(audio, fs, 100)\n",
    "plot_fft(audio, fs)\n",
    "audio = add_data(audio, data, 0.2e7, fs, DELTA_FREQUENCIES, LOWEST_FREQUENCY)\n",
    "plot_fft(audio, fs)\n",
    "plot_fft(audio, fs, 10)\n",
    "audio_to_wav(audio, 'bumblebee_small_with_data.wav', fs)\n",
    "\n",
    "data_r = recover_data(audio, 0.2e7, len(data), fs, DELTA_FREQUENCIES, LOWEST_FREQUENCY)\n",
    "print(data_r)\n"
   ]
  },
  {
   "cell_type": "code",
   "execution_count": null,
   "id": "f2c2a291",
   "metadata": {},
   "outputs": [],
   "source": []
  }
 ],
 "metadata": {
  "kernelspec": {
   "display_name": "Python 3 (ipykernel)",
   "language": "python",
   "name": "python3"
  },
  "language_info": {
   "codemirror_mode": {
    "name": "ipython",
    "version": 3
   },
   "file_extension": ".py",
   "mimetype": "text/x-python",
   "name": "python",
   "nbconvert_exporter": "python",
   "pygments_lexer": "ipython3",
   "version": "3.12.2"
  }
 },
 "nbformat": 4,
 "nbformat_minor": 5
}
