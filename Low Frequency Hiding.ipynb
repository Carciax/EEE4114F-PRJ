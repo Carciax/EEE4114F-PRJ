{
 "cells": [
  {
   "cell_type": "code",
   "execution_count": 81,
   "id": "7dc73068",
   "metadata": {},
   "outputs": [],
   "source": [
    "import numpy as np\n",
    "import matplotlib.pyplot as plt\n",
    "from scipy.io import wavfile\n",
    "import rsa"
   ]
  },
  {
   "cell_type": "markdown",
   "id": "e546eec3",
   "metadata": {},
   "source": [
    "## Encoding and Decoding Functions"
   ]
  },
  {
   "cell_type": "code",
   "execution_count": 82,
   "id": "178958e9",
   "metadata": {},
   "outputs": [],
   "source": [
    "def audio_from_wav(filename, save_mono=False):\n",
    "    fs, data = wavfile.read(filename)\n",
    "    audio = (data[:,0] + data[:,1]) // 2\n",
    "    if (save_mono):\n",
    "        data[:,0] = audio\n",
    "        data[:,1] = audio\n",
    "        filename = filename.split('.')[0] + '_mono.wav'\n",
    "        wavfile.write(filename, fs, data)\n",
    "    return fs, audio\n",
    "\n",
    "def audio_to_wav(audio, filename, fs, N_original):\n",
    "    data = np.zeros((N_original, 2)).astype(np.int16)\n",
    "    data[:,0] = audio[0:N_original]\n",
    "    data[:,1] = audio[0:N_original]\n",
    "    wavfile.write(filename, fs, data)\n",
    "\n",
    "def pad_audio(audio, fs, df):\n",
    "    N = len(audio)\n",
    "    N_min = fs/df\n",
    "    N_req = int((N // N_min + 1) * N_min - N)\n",
    "    pad = np.linspace(0, 0, N_req)\n",
    "    audio = np.concatenate((audio, pad))\n",
    "    return audio\n",
    "\n",
    "def remove_low_frequencies(audio, fs, f_max):\n",
    "    audio_fft = np.fft.rfft(audio)\n",
    "    audio_fft[0:len(audio)*f_max//fs] = 0\n",
    "    audio = np.real(np.fft.irfft(audio_fft))\n",
    "    return audio\n",
    "\n",
    "def add_data(audio, data, ampl, fs, df, f_min):\n",
    "    f_min = max(f_min, df)\n",
    "    \n",
    "    f_data = np.linspace(f_min, f_min + (len(data)-1) * df, len(data))\n",
    "    f_audio = np.fft.rfftfreq(len(audio), 1/fs)\n",
    "    audio_fft = np.fft.rfft(audio)\n",
    "\n",
    "    f_d = 0\n",
    "    for f in range(len(f_audio)):\n",
    "        if (f_data[f_d] <= f_audio[f]):\n",
    "            audio_fft[f] = ampl * data[f_d]\n",
    "            f_d += 1\n",
    "            if f_d == len(f_data):\n",
    "                break\n",
    "\n",
    "    audio = np.real(np.fft.irfft(audio_fft))\n",
    "    return audio\n",
    "\n",
    "def recover_data(audio, data_ampl, data_len, fs, df, f_min):\n",
    "    data = np.zeros(data_len)\n",
    "\n",
    "    f_data = np.linspace(f_min, f_min + (len(data)-1) * df, len(data))\n",
    "    f_audio = np.fft.rfftfreq(len(audio), 1/fs)\n",
    "    audio_fft = np.fft.rfft(audio)\n",
    "\n",
    "    f_d = 0\n",
    "    for f in range(len(f_audio)):\n",
    "        if (f_data[f_d] <= f_audio[f]):\n",
    "            if (audio_fft[f] > data_ampl/2):\n",
    "                data[f_d] = 1\n",
    "            f_d += 1\n",
    "            if f_d == len(f_data):\n",
    "                break\n",
    "    return data"
   ]
  },
  {
   "cell_type": "markdown",
   "id": "b45a623b",
   "metadata": {},
   "source": [
    "## Encryption Functions"
   ]
  },
  {
   "cell_type": "code",
   "execution_count": 83,
   "id": "28a8516e",
   "metadata": {},
   "outputs": [],
   "source": [
    "def create_keys(length):\n",
    "    public_key, private_key = rsa.newkeys(length)\n",
    "\n",
    "    with open('public_key.pem', 'wb') as f:\n",
    "        f.write(public_key.save_pkcs1())\n",
    "    \n",
    "    with open('private_key.pem', 'wb') as f:\n",
    "        f.write(private_key.save_pkcs1())\n",
    "        \n",
    "    return public_key, private_key\n",
    "\n",
    "def encrypt_data(message, private_key):\n",
    "    return rsa.sign(message.encode(), private_key, 'SHA-1')\n",
    "\n",
    "def Check_data(message, sign_message , public_key):\n",
    "    try:\n",
    "        rsa.verify(message.encode(), sign_message, public_key)\n",
    "        return True\n",
    "    except:\n",
    "        return False\n",
    "    \n",
    "\n",
    "def getdatafrom_sec_total_ave(audio_name):\n",
    "\n",
    "    fs, audio = audio_from_wav(audio_name)\n",
    "\n",
    "\n",
    "    total = 0\n",
    "    numtotal = 0\n",
    "\n",
    "    Sec_compare_count = np.zeros(8)\n",
    "\n",
    "    output = np.zeros(8)\n",
    "    \n",
    "    # start inputes\n",
    "    f_start = 100\n",
    "    f_end = 900\n",
    "    numpersec = 10\n",
    "\n",
    "    df = (f_end - f_start)/numpersec\n",
    "\n",
    "    \n",
    "    # fouriatransform audio\n",
    "    audio = pad_audio(audio, fs, df)\n",
    "    f_full = np.fft.rfftfreq(len(audio), 1/fs)\n",
    "    audio_fft = np.fft.rfft(audio)\n",
    "\n",
    "    \n",
    "    # calculate average for all\n",
    "    for i in range(len(f_full)):\n",
    "        f_full_round = np.around(f_full[i], 2)\n",
    "        if (f_full_round%df == 0):\n",
    "            if f_full[i] >= f_start and f_full[i] <= f_end:\n",
    "                total += np.abs(audio_fft[i])\n",
    "                numtotal += 1\n",
    "            \n",
    "                \n",
    "    ave = total / numtotal\n",
    "\n",
    "    # calculate num above or below for each section\n",
    "    for i in range(len(f_full)):\n",
    "        f_full_round = np.around(f_full[i], 2)\n",
    "        if (f_full_round%df == 0):\n",
    "            for j in range(8):\n",
    "                temp_start = f_start + j * 100\n",
    "                temp_end = temp_start + 100\n",
    "                if f_full[i] >= temp_start and f_full[i] <= temp_end:\n",
    "                    if np.abs(audio_fft[i]) >= ave:\n",
    "                        Sec_compare_count[j] += 1\n",
    "                    else:\n",
    "                        Sec_compare_count[j] -= 1\n",
    "                        \n",
    "         \n",
    "    for i in range(8):\n",
    "        if Sec_compare_count[i] > 0:\n",
    "            output[i] = 1\n",
    "        else:\n",
    "            output[i] = 0\n",
    "\n",
    "\n",
    "    return output\n",
    "\n",
    "\n",
    "def convert_to_ascii(input):\n",
    "    int_input = [int(i) for i in input]\n",
    "    binary_string = ''.join(str(bit) for bit in int_input)\n",
    "    decimal_value = int(binary_string, 2)\n",
    "    ascii_char = chr(decimal_value)\n",
    "    return ascii_char\n",
    "\n",
    "def bytes_to_binary(bytes_obj):\n",
    "    return ''.join(format(byte, '08b') for byte in bytes_obj)\n",
    "\n",
    "def binary_to_bytes(binary_str):\n",
    "    return bytes(int(binary_str[i:i+8], 2) for i in range(0, len(binary_str), 8))\n",
    "\n",
    "\n",
    "def get_data(audio_name,private_key):\n",
    "    message = convert_to_ascii(getdatafrom_sec_total_ave(audio_name))\n",
    "    sign_message = encrypt_data(message, private_key)\n",
    "    bin_sign_message=bytes_to_binary(sign_message)    \n",
    "    bin_data = [int(bit) for bit in bin_sign_message]\n",
    "    return bin_data\n",
    "\n",
    "\n",
    "def check_data(audio_name, bin_data_arry , public_key):\n",
    "    message = convert_to_ascii(getdatafrom_sec_total_ave(audio_name))\n",
    "    bin_data = ''.join(str(bit) for bit in bin_data_arry)\n",
    "    sign_message = binary_to_bytes(bin_data)\n",
    "    return Check_data(message, sign_message, public_key)\n",
    "    "
   ]
  },
  {
   "cell_type": "markdown",
   "id": "73c2b416",
   "metadata": {},
   "source": [
    "## Helper Functions"
   ]
  },
  {
   "cell_type": "code",
   "execution_count": 84,
   "id": "f3a1f8d4",
   "metadata": {},
   "outputs": [],
   "source": [
    "def plot_fft(audio, fs, f_max = 250):\n",
    "    f_full = np.fft.rfftfreq(len(audio), 1/fs)\n",
    "    audio_fft = np.fft.rfft(audio)\n",
    "    plt.figure()\n",
    "    plt.plot(f_full, np.abs(audio_fft))\n",
    "    plt.xlim([0, f_max])\n",
    "    plt.ylim([0, 1.5e7])\n",
    "    plt.title('Song fft')"
   ]
  },
  {
   "cell_type": "markdown",
   "id": "940b078b",
   "metadata": {},
   "source": [
    "## Implentation"
   ]
  },
  {
   "cell_type": "code",
   "execution_count": 85,
   "id": "aa6b5c77",
   "metadata": {},
   "outputs": [],
   "source": [
    "DELTA_FREQUENCIES = 0.2 # Hz\n",
    "LOWEST_FREQUENCY = 1 # Hz\n",
    "DATA_LENGTH = 368\n",
    "BINARY_AMPLITUDES = 0.5e7\n",
    "\n",
    "def encrypt_audio(filename):\n",
    "    # Keys and data\n",
    "    public_key, private_key = create_keys(365);\n",
    "    data = get_data(filename, private_key)\n",
    "\n",
    "    # Audio from file\n",
    "    fs, audio = audio_from_wav(filename, True)\n",
    "    N_original = len(audio)\n",
    "    # plot_fft(audio, fs)\n",
    "\n",
    "    # Add data to audio\n",
    "    audio = pad_audio(audio, fs, DELTA_FREQUENCIES)\n",
    "    audio = remove_low_frequencies(audio, fs, 100)\n",
    "    # plot_fft(audio, fs)\n",
    "    audio = add_data(audio, data, BINARY_AMPLITUDES, fs, DELTA_FREQUENCIES, LOWEST_FREQUENCY)\n",
    "    # plot_fft(audio, fs)\n",
    "    plot_fft(audio, fs)\n",
    "\n",
    "    # Save audio to file\n",
    "    audio_to_wav(audio, filename.split('.')[0] + '_with_data.wav', fs, N_original)\n",
    "    return public_key, private_key\n",
    "\n",
    "    \n",
    "\n",
    "def check_audio(filename, public_key):\n",
    "    fs, audio = audio_from_wav(filename)\n",
    "    audio = pad_audio(audio, fs, DELTA_FREQUENCIES)\n",
    "    plot_fft(audio, fs)\n",
    "\n",
    "    data_r = recover_data(audio, BINARY_AMPLITUDES, DATA_LENGTH, fs, DELTA_FREQUENCIES, LOWEST_FREQUENCY).astype(int)\n",
    "    check = check_data(filename,data_r,public_key)\n",
    "    return check"
   ]
  },
  {
   "cell_type": "code",
   "execution_count": 86,
   "id": "455de3ef",
   "metadata": {
    "scrolled": true
   },
   "outputs": [
    {
     "name": "stdout",
     "output_type": "stream",
     "text": [
      "[0 0 0 0 0 0 0 0 0 1 0 0 1 0 0 1 0 0 1 1 1 0 0 0 1 1 1 1 1 1 1 0 0 1 1 0 0\n",
      " 0 1 1 1 1 1 0 1 1 1 0 0 0 1 1 1 0 1 1 0 1 1 1 0 1 0 0 1 0 1 0 0 1 0 1 0 1\n",
      " 1 0 1 0 1 0 0 0 0 1 0 0 1 0 0 0 0 1 0 0 1 1 1 0 1 0 0 1 0 0 0 0 1 1 0 1 0\n",
      " 0 0 0 0 0 0 0 0 1 1 1 0 0 1 0 0 0 0 1 1 0 1 1 1 1 1 1 0 1 0 0 1 0 1 0 1 1\n",
      " 1 1 0 0 0 1 0 0 1 1 1 1 1 1 0 0 1 0 1 0 0 0 0 0 1 0 1 1 1 1 1 0 1 1 0 1 1\n",
      " 0 0 1 0 1 1 1 0 1 1 1 1 0 1 0 0 0 1 0 0 1 1 1 1 1 0 1 1 0 0 1 0 1 1 0 0 1\n",
      " 1 1 1 0 0 1 1 0 1 0 0 1 1 0 1 0 1 1 0 1 1 0 0 1 0 0 1 0 0 1 1 0 0 1 0 0 1\n",
      " 1 0 1 0 1 0 1 1 0 1 0 1 1 0 1 0 1 1 0 1 0 0 0 0 1 1 1 1 1 0 0 1 0 0 1 0 1\n",
      " 0 0 1 0 1 0 0 1 1 0 0 1 0 1 0 0 0 1 1 1 1 0 1 1 0 0 1 0 0 1 0 1 0 0 1 1 0\n",
      " 1 1 0 1 0 1 1 0 0 1 1 0 0 1 0 0 0 0 0 0 1 1 1 0 1 0 0 0 0 1 1 1 0 1 1]\n",
      "368\n",
      "True\n"
     ]
    },
    {
     "data": {
      "image/png": "[encoded data removed]",
      "text/plain": [
       "<Figure size 432x288 with 1 Axes>"
      ]
     },
     "metadata": {
      "needs_background": "light"
     },
     "output_type": "display_data"
    },
    {
     "data": {
      "image/png": "[encoded data removed]",
      "text/plain": [
       "<Figure size 432x288 with 1 Axes>"
      ]
     },
     "metadata": {
      "needs_background": "light"
     },
     "output_type": "display_data"
    }
   ],
   "source": [
    "public_key, _ = encrypt_audio('AudioFiles/bumblebee/bumblebee_small.wav')\n",
    "print(check_audio('AudioFiles/bumblebee/bumblebee_small_with_data.wav', public_key))\n"
   ]
  }
 ],
 "metadata": {
  "kernelspec": {
   "display_name": "Python 3 (ipykernel)",
   "language": "python",
   "name": "python3"
  },
  "language_info": {
   "codemirror_mode": {
    "name": "ipython",
    "version": 3
   },
   "file_extension": ".py",
   "mimetype": "text/x-python",
   "name": "python",
   "nbconvert_exporter": "python",
   "pygments_lexer": "ipython3",
   "version": "3.9.12"
  }
 },
 "nbformat": 4,
 "nbformat_minor": 5
}
