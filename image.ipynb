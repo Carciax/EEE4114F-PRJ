{
 "cells": [
  {
   "cell_type": "markdown",
   "metadata": {},
   "source": [
    "Making an image"
   ]
  },
  {
   "cell_type": "code",
   "execution_count": 153,
   "metadata": {},
   "outputs": [],
   "source": [
    "from math import floor\n",
    "import numpy as np\n",
    "import cv2\n",
    "import matplotlib.pyplot as plt\n"
   ]
  },
  {
   "cell_type": "markdown",
   "metadata": {},
   "source": [
    "Importing the image"
   ]
  },
  {
   "cell_type": "markdown",
   "metadata": {},
   "source": [
    "Tuncating the image to make it Square"
   ]
  },
  {
   "cell_type": "code",
   "execution_count": null,
   "metadata": {},
   "outputs": [],
   "source": [
    "\n",
    "\n",
    "\n",
    "                "
   ]
  },
  {
   "cell_type": "markdown",
   "metadata": {},
   "source": [
    "Heat map of array"
   ]
  },
  {
   "cell_type": "code",
   "execution_count": null,
   "metadata": {},
   "outputs": [],
   "source": [
    "\n",
    "\n",
    "\n"
   ]
  },
  {
   "cell_type": "code",
   "execution_count": 154,
   "metadata": {},
   "outputs": [],
   "source": [
    "def makeimagecode(image_name,code_length=16):\n",
    "    # read image\n",
    "    image = cv2.imread(image_name, 0)\n",
    "\n",
    "    # resize image\n",
    "    truncsize = min(image.shape[0], image.shape[1])\n",
    "    istartvert = (len(image) - truncsize) / 2\n",
    "    iendvert = istartvert + truncsize\n",
    "    istarthor = (len(image[0]) - truncsize) / 2\n",
    "    iendhor = istarthor + truncsize\n",
    "    resized_image = image[int(istartvert):int(iendvert), int(istarthor):int(iendhor)]\n",
    "\n",
    "    #initialize the compressed image\n",
    "    image_compressed = np.zeros((code_length,code_length))\n",
    "\n",
    "    #side length of each block\n",
    "    length_cop_block = floor(truncsize/code_length)\n",
    "\n",
    "    #number of elements in each block\n",
    "    element = length_cop_block*length_cop_block\n",
    "\n",
    "    #compress the image\n",
    "    for i in range(code_length):\n",
    "        start_value_vert = length_cop_block*i\n",
    "        end_value_vert = length_cop_block*(i+1)\n",
    "        for j in range(code_length):\n",
    "            start_value_hor = length_cop_block*j\n",
    "            end_value_hor = length_cop_block*(j+1)\n",
    "            num_full = 0\n",
    "            for k in range(start_value_vert,end_value_vert):\n",
    "                for l in range(start_value_hor,end_value_hor):\n",
    "                    if resized_image[l][k] <= 50:\n",
    "                        num_full = num_full + 1\n",
    "            if num_full > element/4:\n",
    "                image_compressed[j][i] = 0\n",
    "            else:\n",
    "                image_compressed[j][i] = 1\n",
    "\n",
    "    #plot the compressed image\n",
    "    plt.imshow(image_compressed, cmap='hot')\n",
    "    plt.colorbar()\n",
    "    plt.show() \n",
    "    \n",
    "    #coverting to 1d array         \n",
    "    image_compressed_code = image_compressed.flatten()\n",
    "    return image_compressed_code\n",
    "     \n",
    "\n",
    "    "
   ]
  },
  {
   "cell_type": "code",
   "execution_count": 155,
   "metadata": {},
   "outputs": [
    {
     "data": {
      "image/png": "[encoded data removed]",
      "text/plain": [
       "<Figure size 640x480 with 2 Axes>"
      ]
     },
     "metadata": {},
     "output_type": "display_data"
    },
    {
     "name": "stdout",
     "output_type": "stream",
     "text": [
      "[1. 1. 1. 1. 1. 1. 1. 1. 1. 1. 1. 1. 1. 1. 1. 1. 1. 1. 1. 1. 1. 1. 1. 1.\n",
      " 1. 1. 1. 1. 1. 1. 1. 1. 1. 1. 1. 1. 1. 1. 1. 1. 1. 1. 1. 1. 1. 1. 1. 1.\n",
      " 1. 1. 1. 1. 1. 1. 1. 1. 1. 1. 1. 1. 1. 1. 1. 1. 1. 1. 1. 1. 1. 1. 1. 1.\n",
      " 1. 1. 1. 1. 1. 1. 1. 1. 1. 0. 0. 1. 1. 1. 1. 1. 1. 1. 0. 0. 1. 1. 1. 1.\n",
      " 1. 0. 0. 1. 1. 1. 1. 1. 1. 1. 0. 0. 1. 1. 1. 1. 1. 0. 0. 1. 1. 1. 1. 1.\n",
      " 1. 1. 0. 0. 0. 0. 0. 1. 1. 0. 0. 1. 1. 1. 1. 1. 1. 1. 0. 0. 1. 0. 0. 1.\n",
      " 1. 0. 0. 1. 1. 1. 1. 1. 1. 1. 0. 0. 1. 0. 0. 1. 1. 0. 0. 1. 1. 1. 1. 1.\n",
      " 1. 1. 0. 0. 1. 0. 0. 1. 1. 0. 0. 0. 0. 1. 1. 1. 1. 1. 0. 0. 1. 0. 0. 1.\n",
      " 1. 1. 1. 1. 1. 1. 1. 1. 1. 1. 1. 1. 1. 1. 1. 1. 1. 1. 1. 1. 1. 1. 1. 1.\n",
      " 1. 1. 1. 1. 1. 1. 1. 1. 1. 1. 1. 1. 1. 1. 1. 1. 1. 1. 1. 1. 1. 1. 1. 1.\n",
      " 1. 1. 1. 1. 1. 1. 1. 1. 1. 1. 1. 1. 1. 1. 1. 1.]\n"
     ]
    },
    {
     "ename": "",
     "evalue": "",
     "output_type": "error",
     "traceback": [
      "\u001b[1;31mThe Kernel crashed while executing code in the current cell or a previous cell. \n",
      "\u001b[1;31mPlease review the code in the cell(s) to identify a possible cause of the failure. \n",
      "\u001b[1;31mClick <a href='https://aka.ms/vscodeJupyterKernelCrash'>here</a> for more info. \n",
      "\u001b[1;31mView Jupyter <a href='command:jupyter.viewOutput'>log</a> for further details."
     ]
    }
   ],
   "source": [
    "from turtle import width\n",
    "import numpy as np\n",
    "\n",
    "\n",
    "print(makeimagecode('LH.png'));"
   ]
  }
 ],
 "metadata": {
  "kernelspec": {
   "display_name": "Python 3",
   "language": "python",
   "name": "python3"
  },
  "language_info": {
   "codemirror_mode": {
    "name": "ipython",
    "version": 3
   },
   "file_extension": ".py",
   "mimetype": "text/x-python",
   "name": "python",
   "nbconvert_exporter": "python",
   "pygments_lexer": "ipython3",
   "version": "3.12.2"
  }
 },
 "nbformat": 4,
 "nbformat_minor": 2
}
